{
 "cells": [
  {
   "cell_type": "markdown",
   "metadata": {
    "heading_collapsed": true,
    "run_control": {
     "frozen": false,
     "read_only": false
    },
    "slideshow": {
     "slide_type": "slide"
    }
   },
   "source": [
    "# What is Tensorflow? "
   ]
  },
  {
   "cell_type": "markdown",
   "metadata": {
    "hidden": true,
    "run_control": {
     "frozen": false,
     "read_only": false
    },
    "slideshow": {
     "slide_type": "fragment"
    }
   },
   "source": [
    "* Software library for numerical computation using dynamic dataflow graphs\n",
    "\n",
    "__ Add picture __ high level definition\n",
    "* Nodes in graph are operations\n",
    "    - sum, mult, matrix-mult\n",
    "* Edges of graph are data transmitted between operations\n",
    "    - Data is represented as tensors ~ n dimensional arrays\n",
    "    - ex. \n",
    "            [[[2,1],[2,4]],\n",
    "            [[2,4],[1,2]],\n",
    "            [[4,6],[4,2]]] \n",
    "       is a 3 dimensional tensor\n",
    "    - Data can have any datatype, but most data is numerical"
   ]
  },
  {
   "cell_type": "markdown",
   "metadata": {
    "heading_collapsed": true,
    "hidden": true,
    "run_control": {
     "frozen": false,
     "read_only": false
    },
    "slideshow": {
     "slide_type": "fragment"
    }
   },
   "source": [
    "## Core Concepts\n",
    "1. ** Tensors ** \n",
    "\n",
    "1. **Tensorflow dataflow graph**\n",
    "    * A graph's nodes are operations (**tf.Operation**) and the edeges are tensors (**tf.Tensor**) \n",
    "2. **Session**\n",
    "    * A session (**tf.session**) provides access to the devices of the local machine (CPU, GPU)\n",
    "    * Encapsulates the operation of a computational graph\n",
    "    * Manages caching of variables"
   ]
  },
  {
   "cell_type": "markdown",
   "metadata": {
    "heading_collapsed": true,
    "run_control": {
     "frozen": false,
     "read_only": false
    },
    "slideshow": {
     "slide_type": "slide"
    }
   },
   "source": [
    "# TensorFlow's Hello World "
   ]
  },
  {
   "cell_type": "markdown",
   "metadata": {
    "hidden": true,
    "run_control": {
     "frozen": false,
     "read_only": false
    },
    "slideshow": {
     "slide_type": "subslide"
    }
   },
   "source": [
    "* Task:\n",
    "    * Create a tensorflow graph that returns 'hello world'\n"
   ]
  },
  {
   "cell_type": "code",
   "execution_count": 1,
   "metadata": {
    "hidden": true,
    "run_control": {
     "frozen": false,
     "read_only": false
    },
    "slideshow": {
     "slide_type": "fragment"
    }
   },
   "outputs": [
    {
     "name": "stdout",
     "output_type": "stream",
     "text": [
      "b'hello world'\n"
     ]
    }
   ],
   "source": [
    "# Import tensorflow \n",
    "import tensorflow as tf\n",
    "\n",
    "# Create a graph with one node that returns 'hello world'\n",
    "# The value passed to the constructor of tf.constant represents the output of the Constant op.\n",
    "hello = tf.constant('hello world')\n",
    "\n",
    "# hello is a constant operation node which takes no input and returns a Tensor that holds th  e value 'hello world'\n",
    "# We have constructed the TensorGraph\n",
    "\n",
    "# We need to run it in a session\n",
    "# Start a tf session\n",
    "sess = tf.Session()\n",
    "\n",
    "# Run the graph in the session\n",
    "result = sess.run(hello)\n",
    "\n",
    "print(result)"
   ]
  },
  {
   "cell_type": "markdown",
   "metadata": {
    "heading_collapsed": true,
    "run_control": {
     "frozen": false,
     "read_only": false
    },
    "slideshow": {
     "slide_type": "slide"
    }
   },
   "source": [
    "# Basic Operations "
   ]
  },
  {
   "cell_type": "markdown",
   "metadata": {
    "hidden": true,
    "run_control": {
     "frozen": false,
     "read_only": false
    },
    "slideshow": {
     "slide_type": "subslide"
    }
   },
   "source": [
    "Task 1. Create a tensorflow graph which multiplies two constants\n"
   ]
  },
  {
   "cell_type": "code",
   "execution_count": 3,
   "metadata": {
    "hidden": true,
    "run_control": {
     "frozen": false,
     "read_only": false
    },
    "slideshow": {
     "slide_type": "fragment"
    }
   },
   "outputs": [
    {
     "name": "stdout",
     "output_type": "stream",
     "text": [
      "a: 2 b: 3\n",
      "Multiplication with constants: 6\n"
     ]
    }
   ],
   "source": [
    "# Basic constant operations\n",
    "# The value passed to the constructor represents the output of the Constant op.\n",
    "a = tf.constant(2)\n",
    "b = tf.constant(3)\n",
    "\n",
    "# Launch the default graph.\n",
    "\n",
    "with tf.Session() as sess:\n",
    "    print((\"a: %i\" % sess.run(a), \"b: %i\" % sess.run(b)))\n",
    "    print((\"Multiplication with constants: %i\" % sess.run(a*b)))"
   ]
  },
  {
   "cell_type": "markdown",
   "metadata": {
    "hidden": true,
    "run_control": {
     "frozen": false,
     "read_only": false
    },
    "slideshow": {
     "slide_type": "subslide"
    }
   },
   "source": [
    "Task 2. Create a tensorflow graph that can take input using variables"
   ]
  },
  {
   "cell_type": "code",
   "execution_count": 4,
   "metadata": {
    "hidden": true,
    "run_control": {
     "frozen": false,
     "read_only": false
    },
    "slideshow": {
     "slide_type": "fragment"
    }
   },
   "outputs": [
    {
     "name": "stdout",
     "output_type": "stream",
     "text": [
      "Multiplication with variables: 6\n"
     ]
    }
   ],
   "source": [
    "# Basic Operations with variable as graph input\n",
    "# The value passed to the constructor represents the type of output of the Variable op.\n",
    "# (defined as input when running session)\n",
    "\n",
    "# Graph input\n",
    "a = tf.placeholder(tf.int16)\n",
    "b = tf.placeholder(tf.int16)\n",
    "\n",
    "# Define the operations\n",
    "mul = tf.multiply(a, b)\n",
    "\n",
    "# Launch the default graph in a session.\n",
    "with tf.Session() as sess:\n",
    "    # Run the operation with variable input by modifying the input values\n",
    "    # input is fed to the graph using the **feed_dict**\n",
    "    print((\"Multiplication with variables: %i\" % sess.run(mul, feed_dict={a: 2, b: 3})))"
   ]
  },
  {
   "cell_type": "markdown",
   "metadata": {
    "hidden": true,
    "run_control": {
     "frozen": false,
     "read_only": false
    },
    "slideshow": {
     "slide_type": "subslide"
    }
   },
   "source": [
    "Matrix operations work in a similar fashion"
   ]
  },
  {
   "cell_type": "code",
   "execution_count": 10,
   "metadata": {
    "hidden": true,
    "run_control": {
     "frozen": false,
     "read_only": false
    },
    "slideshow": {
     "slide_type": "fragment"
    }
   },
   "outputs": [
    {
     "name": "stdout",
     "output_type": "stream",
     "text": [
      "[[10.]]\n"
     ]
    }
   ],
   "source": [
    "# Constant matrices are initialized the same way as scalars : using tf.constant\n",
    "matrix1 = tf.constant([[3., 4.]]) # 1 x 2 matrix\n",
    "matrix2 = tf.constant([[2.],[1.]]) # 2 x 1 matrix\n",
    "\n",
    "# For scalar multiplication, we used the * operator, but we could have also used tf's inbuilt tf.multiply function\n",
    "# For matrix multiplication, we have to use the tf.matmul function\n",
    "\n",
    "product = tf.matmul(matrix1, matrix2) # Ensure the right multiplication order\n",
    "# product = 3*2 + 4*1\n",
    "\n",
    "with tf.Session() as sess:\n",
    "    result = sess.run(product)\n",
    "    print(result)"
   ]
  }
 ],
 "metadata": {
  "celltoolbar": "Slideshow",
  "kernelspec": {
   "display_name": "Python 3",
   "language": "python",
   "name": "python3"
  },
  "language_info": {
   "codemirror_mode": {
    "name": "ipython",
    "version": 3
   },
   "file_extension": ".py",
   "mimetype": "text/x-python",
   "name": "python",
   "nbconvert_exporter": "python",
   "pygments_lexer": "ipython3",
   "version": "3.5.4"
  },
  "toc": {
   "colors": {
    "hover_highlight": "#DAA520",
    "running_highlight": "#FF0000",
    "selected_highlight": "#FFD700"
   },
   "moveMenuLeft": true,
   "nav_menu": {
    "height": "84px",
    "width": "252px"
   },
   "navigate_menu": true,
   "number_sections": true,
   "sideBar": true,
   "threshold": 4,
   "toc_cell": false,
   "toc_section_display": "block",
   "toc_window_display": true
  },
  "varInspector": {
   "cols": {
    "lenName": 16,
    "lenType": 16,
    "lenVar": 40
   },
   "kernels_config": {
    "python": {
     "delete_cmd_postfix": "",
     "delete_cmd_prefix": "del ",
     "library": "var_list.py",
     "varRefreshCmd": "print(var_dic_list())"
    },
    "r": {
     "delete_cmd_postfix": ") ",
     "delete_cmd_prefix": "rm(",
     "library": "var_list.r",
     "varRefreshCmd": "cat(var_dic_list()) "
    }
   },
   "types_to_exclude": [
    "module",
    "function",
    "builtin_function_or_method",
    "instance",
    "_Feature"
   ],
   "window_display": false
  }
 },
 "nbformat": 4,
 "nbformat_minor": 2
}
